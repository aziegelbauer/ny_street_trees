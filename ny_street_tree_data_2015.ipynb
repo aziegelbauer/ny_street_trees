{
 "cells": [
  {
   "cell_type": "code",
   "execution_count": 2,
   "metadata": {},
   "outputs": [],
   "source": [
    "import pandas as pd\n",
    "import datetime as dt\n",
    "df = pd.read_csv('2015-street-tree-census-tree-data.csv')"
   ]
  },
  {
   "cell_type": "markdown",
   "metadata": {},
   "source": [
    "## Clean"
   ]
  },
  {
   "cell_type": "code",
   "execution_count": 6,
   "metadata": {},
   "outputs": [
    {
     "name": "stderr",
     "output_type": "stream",
     "text": [
      "/anaconda3/lib/python3.6/site-packages/ipykernel/__main__.py:1: FutureWarning: currently extract(expand=None) means expand=False (return Index/Series/DataFrame) but in a future version of pandas this will be changed to expand=True (return DataFrame)\n",
      "  if __name__ == '__main__':\n"
     ]
    }
   ],
   "source": [
    "# creates new column of genus names - aggregates species\n",
    "df['genus_name'] = df['spc_latin'].str.extract('([A-Za-z]\\w{0,})')"
   ]
  },
  {
   "cell_type": "markdown",
   "metadata": {},
   "source": [
    "## Analysis"
   ]
  },
  {
   "cell_type": "markdown",
   "metadata": {},
   "source": [
    "### Health and Species Analysis"
   ]
  },
  {
   "cell_type": "code",
   "execution_count": 9,
   "metadata": {},
   "outputs": [
    {
     "data": {
      "text/plain": [
       "Good    528850\n",
       "Fair     96504\n",
       "Poor     26818\n",
       "Name: health, dtype: int64"
      ]
     },
     "execution_count": 9,
     "metadata": {},
     "output_type": "execute_result"
    }
   ],
   "source": [
    "#finds number of trees in each health grade\n",
    "df.health.value_counts()"
   ]
  },
  {
   "cell_type": "code",
   "execution_count": 21,
   "metadata": {},
   "outputs": [
    {
     "data": {
      "text/plain": [
       "tree_id             0.773412\n",
       "block_id            0.773412\n",
       "created_at          0.773412\n",
       "tree_dbh            0.773412\n",
       "stump_diam          0.773412\n",
       "curb_loc            0.773412\n",
       "status              0.773412\n",
       "health              0.810906\n",
       "spc_latin           0.810903\n",
       "spc_common          0.810903\n",
       "steward             0.810904\n",
       "guards              0.810906\n",
       "sidewalk            0.810904\n",
       "user_type           0.773412\n",
       "problems            0.810904\n",
       "root_stone          0.773412\n",
       "root_grate          0.773412\n",
       "root_other          0.773412\n",
       "trunk_wire          0.773412\n",
       "trnk_light          0.773412\n",
       "trnk_other          0.773412\n",
       "brch_light          0.773412\n",
       "brch_shoe           0.773412\n",
       "brch_other          0.773412\n",
       "address             0.773412\n",
       "postcode            0.773412\n",
       "zip_city            0.773412\n",
       "community board     0.773412\n",
       "borocode            0.773412\n",
       "borough             0.773412\n",
       "cncldist            0.773412\n",
       "st_assem            0.773412\n",
       "st_senate           0.773412\n",
       "nta                 0.773412\n",
       "nta_name            0.773412\n",
       "boro_ct             0.773412\n",
       "state               0.773412\n",
       "latitude            0.773412\n",
       "longitude           0.773412\n",
       "x_sp                0.773412\n",
       "y_sp                0.773412\n",
       "council district    0.773734\n",
       "census tract        0.773734\n",
       "bin                 0.773865\n",
       "bbl                 0.773865\n",
       "dtype: float64"
      ]
     },
     "execution_count": 21,
     "metadata": {},
     "output_type": "execute_result"
    }
   ],
   "source": [
    "#finds percentage of good in database\n",
    "good.count()/df.count()"
   ]
  },
  {
   "cell_type": "code",
   "execution_count": 38,
   "metadata": {},
   "outputs": [
    {
     "data": {
      "text/plain": [
       "tree_id             0.039220\n",
       "block_id            0.039220\n",
       "created_at          0.039220\n",
       "tree_dbh            0.039220\n",
       "stump_diam          0.039220\n",
       "curb_loc            0.039220\n",
       "status              0.039220\n",
       "health              0.041121\n",
       "spc_latin           0.041120\n",
       "spc_common          0.041120\n",
       "steward             0.041121\n",
       "guards              0.041120\n",
       "sidewalk            0.041121\n",
       "user_type           0.039220\n",
       "problems            0.041121\n",
       "root_stone          0.039220\n",
       "root_grate          0.039220\n",
       "root_other          0.039220\n",
       "trunk_wire          0.039220\n",
       "trnk_light          0.039220\n",
       "trnk_other          0.039220\n",
       "brch_light          0.039220\n",
       "brch_shoe           0.039220\n",
       "brch_other          0.039220\n",
       "address             0.039220\n",
       "postcode            0.039220\n",
       "zip_city            0.039220\n",
       "community board     0.039220\n",
       "borocode            0.039220\n",
       "borough             0.039220\n",
       "cncldist            0.039220\n",
       "st_assem            0.039220\n",
       "st_senate           0.039220\n",
       "nta                 0.039220\n",
       "nta_name            0.039220\n",
       "boro_ct             0.039220\n",
       "state               0.039220\n",
       "latitude            0.039220\n",
       "longitude           0.039220\n",
       "x_sp                0.039220\n",
       "y_sp                0.039220\n",
       "council district    0.039083\n",
       "census tract        0.039083\n",
       "bin                 0.039080\n",
       "bbl                 0.039080\n",
       "dtype: float64"
      ]
     },
     "execution_count": 38,
     "metadata": {},
     "output_type": "execute_result"
    }
   ],
   "source": [
    "#finds percentage of poor in database\n",
    "poor.count()/df.count()"
   ]
  },
  {
   "cell_type": "markdown",
   "metadata": {},
   "source": [
    "Most trees in database (77%) are in good health"
   ]
  },
  {
   "cell_type": "code",
   "execution_count": 20,
   "metadata": {},
   "outputs": [
    {
     "data": {
      "text/plain": [
       "London planetree     73311\n",
       "honeylocust          54501\n",
       "Callery pear         48073\n",
       "pin oak              45556\n",
       "Japanese zelkova     25285\n",
       "cherry               24526\n",
       "littleleaf linden    23582\n",
       "Name: spc_common, dtype: int64"
      ]
     },
     "execution_count": 20,
     "metadata": {},
     "output_type": "execute_result"
    }
   ],
   "source": [
    "#creates mask for trees that have good health\n",
    "good = df.query('health == \"Good\"')\n",
    "#finds seven most common tree species with good health \n",
    "good.spc_common.value_counts().nlargest(7)"
   ]
  },
  {
   "cell_type": "code",
   "execution_count": 26,
   "metadata": {},
   "outputs": [
    {
     "data": {
      "text/plain": [
       "London planetree     11505\n",
       "Norway maple          9162\n",
       "Callery pear          8769\n",
       "honeylocust           8572\n",
       "pin oak               6394\n",
       "littleleaf linden     4440\n",
       "cherry                3448\n",
       "Name: spc_common, dtype: int64"
      ]
     },
     "execution_count": 26,
     "metadata": {},
     "output_type": "execute_result"
    }
   ],
   "source": [
    "#creates mask for trees that have fair health\n",
    "fair = df.query('health == \"Fair\"')\n",
    "#finds seven most common tree species with fair health\n",
    "fair.spc_common.value_counts().nlargest(7)"
   ]
  },
  {
   "cell_type": "code",
   "execution_count": 27,
   "metadata": {},
   "outputs": [
    {
     "data": {
      "text/plain": [
       "Norway maple         3779\n",
       "London planetree     2198\n",
       "Callery pear         2089\n",
       "littleleaf linden    1720\n",
       "cherry               1305\n",
       "pin oak              1235\n",
       "honeylocust          1190\n",
       "Name: spc_common, dtype: int64"
      ]
     },
     "execution_count": 27,
     "metadata": {},
     "output_type": "execute_result"
    }
   ],
   "source": [
    "#creates mask for trees that have poor health\n",
    "poor = df.query('health == \"Poor\"')\n",
    "#finds seven most common tree species with poor health\n",
    "poor.spc_common.value_counts().nlargest(7)"
   ]
  },
  {
   "cell_type": "markdown",
   "metadata": {},
   "source": [
    "#### Percentage of London planetree Health"
   ]
  },
  {
   "cell_type": "code",
   "execution_count": 32,
   "metadata": {},
   "outputs": [
    {
     "data": {
      "text/plain": [
       "tree_id             0.138623\n",
       "block_id            0.138623\n",
       "created_at          0.138623\n",
       "tree_dbh            0.138623\n",
       "stump_diam          0.138623\n",
       "curb_loc            0.138623\n",
       "status              0.138623\n",
       "health              0.138623\n",
       "spc_latin           0.138624\n",
       "spc_common          0.138624\n",
       "steward             0.138623\n",
       "guards              0.138623\n",
       "sidewalk            0.138624\n",
       "user_type           0.138623\n",
       "problems            0.138630\n",
       "root_stone          0.138623\n",
       "root_grate          0.138623\n",
       "root_other          0.138623\n",
       "trunk_wire          0.138623\n",
       "trnk_light          0.138623\n",
       "trnk_other          0.138623\n",
       "brch_light          0.138623\n",
       "brch_shoe           0.138623\n",
       "brch_other          0.138623\n",
       "address             0.138623\n",
       "postcode            0.138623\n",
       "zip_city            0.138623\n",
       "community board     0.138623\n",
       "borocode            0.138623\n",
       "borough             0.138623\n",
       "cncldist            0.138623\n",
       "st_assem            0.138623\n",
       "st_senate           0.138623\n",
       "nta                 0.138623\n",
       "nta_name            0.138623\n",
       "boro_ct             0.138623\n",
       "state               0.138623\n",
       "latitude            0.138623\n",
       "longitude           0.138623\n",
       "x_sp                0.138623\n",
       "y_sp                0.138623\n",
       "council district    0.138541\n",
       "census tract        0.138541\n",
       "bin                 0.138628\n",
       "bbl                 0.138628\n",
       "dtype: float64"
      ]
     },
     "execution_count": 32,
     "metadata": {},
     "output_type": "execute_result"
    }
   ],
   "source": [
    "#finds percentage of good health plantrees/good health trees total\n",
    "good.query('spc_common == \"London planetree\"').count()/good.count()"
   ]
  },
  {
   "cell_type": "code",
   "execution_count": 33,
   "metadata": {},
   "outputs": [
    {
     "data": {
      "text/plain": [
       "tree_id             0.119218\n",
       "block_id            0.119218\n",
       "created_at          0.119218\n",
       "tree_dbh            0.119218\n",
       "stump_diam          0.119218\n",
       "curb_loc            0.119218\n",
       "status              0.119218\n",
       "health              0.119218\n",
       "spc_latin           0.119218\n",
       "spc_common          0.119218\n",
       "steward             0.119218\n",
       "guards              0.119218\n",
       "sidewalk            0.119218\n",
       "user_type           0.119218\n",
       "problems            0.119227\n",
       "root_stone          0.119218\n",
       "root_grate          0.119218\n",
       "root_other          0.119218\n",
       "trunk_wire          0.119218\n",
       "trnk_light          0.119218\n",
       "trnk_other          0.119218\n",
       "brch_light          0.119218\n",
       "brch_shoe           0.119218\n",
       "brch_other          0.119218\n",
       "address             0.119218\n",
       "postcode            0.119218\n",
       "zip_city            0.119218\n",
       "community board     0.119218\n",
       "borocode            0.119218\n",
       "borough             0.119218\n",
       "cncldist            0.119218\n",
       "st_assem            0.119218\n",
       "st_senate           0.119218\n",
       "nta                 0.119218\n",
       "nta_name            0.119218\n",
       "boro_ct             0.119218\n",
       "state               0.119218\n",
       "latitude            0.119218\n",
       "longitude           0.119218\n",
       "x_sp                0.119218\n",
       "y_sp                0.119218\n",
       "council district    0.119430\n",
       "census tract        0.119430\n",
       "bin                 0.119590\n",
       "bbl                 0.119590\n",
       "dtype: float64"
      ]
     },
     "execution_count": 33,
     "metadata": {},
     "output_type": "execute_result"
    }
   ],
   "source": [
    "#finds percentage of fair health plantrees/fair health trees total\n",
    "fair.query('spc_common == \"London planetree\"').count()/fair.count()"
   ]
  },
  {
   "cell_type": "code",
   "execution_count": 34,
   "metadata": {},
   "outputs": [
    {
     "data": {
      "text/plain": [
       "tree_id             0.081960\n",
       "block_id            0.081960\n",
       "created_at          0.081960\n",
       "tree_dbh            0.081960\n",
       "stump_diam          0.081960\n",
       "curb_loc            0.081960\n",
       "status              0.081960\n",
       "health              0.081960\n",
       "spc_latin           0.081963\n",
       "spc_common          0.081963\n",
       "steward             0.081960\n",
       "guards              0.081963\n",
       "sidewalk            0.081960\n",
       "user_type           0.081960\n",
       "problems            0.081966\n",
       "root_stone          0.081960\n",
       "root_grate          0.081960\n",
       "root_other          0.081960\n",
       "trunk_wire          0.081960\n",
       "trnk_light          0.081960\n",
       "trnk_other          0.081960\n",
       "brch_light          0.081960\n",
       "brch_shoe           0.081960\n",
       "brch_other          0.081960\n",
       "address             0.081960\n",
       "postcode            0.081960\n",
       "zip_city            0.081960\n",
       "community board     0.081960\n",
       "borocode            0.081960\n",
       "borough             0.081960\n",
       "cncldist            0.081960\n",
       "st_assem            0.081960\n",
       "st_senate           0.081960\n",
       "nta                 0.081960\n",
       "nta_name            0.081960\n",
       "boro_ct             0.081960\n",
       "state               0.081960\n",
       "latitude            0.081960\n",
       "longitude           0.081960\n",
       "x_sp                0.081960\n",
       "y_sp                0.081960\n",
       "council district    0.082471\n",
       "census tract        0.082471\n",
       "bin                 0.082432\n",
       "bbl                 0.082432\n",
       "dtype: float64"
      ]
     },
     "execution_count": 34,
     "metadata": {},
     "output_type": "execute_result"
    }
   ],
   "source": [
    "#finds percentage of poor health plantrees/poor health trees total\n",
    "poor.query('spc_common == \"London planetree\"').count()/poor.count()"
   ]
  },
  {
   "cell_type": "markdown",
   "metadata": {},
   "source": [
    "#### Percentage of Norway Maple Health"
   ]
  },
  {
   "cell_type": "code",
   "execution_count": 35,
   "metadata": {},
   "outputs": [
    {
     "data": {
      "text/plain": [
       "tree_id             0.040178\n",
       "block_id            0.040178\n",
       "created_at          0.040178\n",
       "tree_dbh            0.040178\n",
       "stump_diam          0.040178\n",
       "curb_loc            0.040178\n",
       "status              0.040178\n",
       "health              0.040178\n",
       "spc_latin           0.040178\n",
       "spc_common          0.040178\n",
       "steward             0.040178\n",
       "guards              0.040178\n",
       "sidewalk            0.040178\n",
       "user_type           0.040178\n",
       "problems            0.040181\n",
       "root_stone          0.040178\n",
       "root_grate          0.040178\n",
       "root_other          0.040178\n",
       "trunk_wire          0.040178\n",
       "trnk_light          0.040178\n",
       "trnk_other          0.040178\n",
       "brch_light          0.040178\n",
       "brch_shoe           0.040178\n",
       "brch_other          0.040178\n",
       "address             0.040178\n",
       "postcode            0.040178\n",
       "zip_city            0.040178\n",
       "community board     0.040178\n",
       "borocode            0.040178\n",
       "borough             0.040178\n",
       "cncldist            0.040178\n",
       "st_assem            0.040178\n",
       "st_senate           0.040178\n",
       "nta                 0.040178\n",
       "nta_name            0.040178\n",
       "boro_ct             0.040178\n",
       "state               0.040178\n",
       "latitude            0.040178\n",
       "longitude           0.040178\n",
       "x_sp                0.040178\n",
       "y_sp                0.040178\n",
       "council district    0.040342\n",
       "census tract        0.040342\n",
       "bin                 0.040423\n",
       "bbl                 0.040423\n",
       "dtype: float64"
      ]
     },
     "execution_count": 35,
     "metadata": {},
     "output_type": "execute_result"
    }
   ],
   "source": [
    "#finds percentage of good health Norway Maples/good health trees total\n",
    "good.query('spc_common == \"Norway maple\"').count()/good.count()"
   ]
  },
  {
   "cell_type": "code",
   "execution_count": 36,
   "metadata": {},
   "outputs": [
    {
     "data": {
      "text/plain": [
       "tree_id             0.094939\n",
       "block_id            0.094939\n",
       "created_at          0.094939\n",
       "tree_dbh            0.094939\n",
       "stump_diam          0.094939\n",
       "curb_loc            0.094939\n",
       "status              0.094939\n",
       "health              0.094939\n",
       "spc_latin           0.094939\n",
       "spc_common          0.094939\n",
       "steward             0.094939\n",
       "guards              0.094939\n",
       "sidewalk            0.094939\n",
       "user_type           0.094939\n",
       "problems            0.094946\n",
       "root_stone          0.094939\n",
       "root_grate          0.094939\n",
       "root_other          0.094939\n",
       "trunk_wire          0.094939\n",
       "trnk_light          0.094939\n",
       "trnk_other          0.094939\n",
       "brch_light          0.094939\n",
       "brch_shoe           0.094939\n",
       "brch_other          0.094939\n",
       "address             0.094939\n",
       "postcode            0.094939\n",
       "zip_city            0.094939\n",
       "community board     0.094939\n",
       "borocode            0.094939\n",
       "borough             0.094939\n",
       "cncldist            0.094939\n",
       "st_assem            0.094939\n",
       "st_senate           0.094939\n",
       "nta                 0.094939\n",
       "nta_name            0.094939\n",
       "boro_ct             0.094939\n",
       "state               0.094939\n",
       "latitude            0.094939\n",
       "longitude           0.094939\n",
       "x_sp                0.094939\n",
       "y_sp                0.094939\n",
       "council district    0.095171\n",
       "census tract        0.095171\n",
       "bin                 0.095421\n",
       "bbl                 0.095421\n",
       "dtype: float64"
      ]
     },
     "execution_count": 36,
     "metadata": {},
     "output_type": "execute_result"
    }
   ],
   "source": [
    "#finds percentage of fair health Norway Maples/fair health trees total\n",
    "fair.query('spc_common == \"Norway maple\"').count()/fair.count()"
   ]
  },
  {
   "cell_type": "code",
   "execution_count": 37,
   "metadata": {},
   "outputs": [
    {
     "data": {
      "text/plain": [
       "tree_id             0.140913\n",
       "block_id            0.140913\n",
       "created_at          0.140913\n",
       "tree_dbh            0.140913\n",
       "stump_diam          0.140913\n",
       "curb_loc            0.140913\n",
       "status              0.140913\n",
       "health              0.140913\n",
       "spc_latin           0.140918\n",
       "spc_common          0.140918\n",
       "steward             0.140913\n",
       "guards              0.140918\n",
       "sidewalk            0.140913\n",
       "user_type           0.140913\n",
       "problems            0.140923\n",
       "root_stone          0.140913\n",
       "root_grate          0.140913\n",
       "root_other          0.140913\n",
       "trunk_wire          0.140913\n",
       "trnk_light          0.140913\n",
       "trnk_other          0.140913\n",
       "brch_light          0.140913\n",
       "brch_shoe           0.140913\n",
       "brch_other          0.140913\n",
       "address             0.140913\n",
       "postcode            0.140913\n",
       "zip_city            0.140913\n",
       "community board     0.140913\n",
       "borocode            0.140913\n",
       "borough             0.140913\n",
       "cncldist            0.140913\n",
       "st_assem            0.140913\n",
       "st_senate           0.140913\n",
       "nta                 0.140913\n",
       "nta_name            0.140913\n",
       "boro_ct             0.140913\n",
       "state               0.140913\n",
       "latitude            0.140913\n",
       "longitude           0.140913\n",
       "x_sp                0.140913\n",
       "y_sp                0.140913\n",
       "council district    0.141594\n",
       "census tract        0.141594\n",
       "bin                 0.141789\n",
       "bbl                 0.141789\n",
       "dtype: float64"
      ]
     },
     "execution_count": 37,
     "metadata": {},
     "output_type": "execute_result"
    }
   ],
   "source": [
    "#finds percentage of poor health Norway Maples/poor health trees total\n",
    "poor.query('spc_common == \"Norway maple\"').count()/poor.count()"
   ]
  },
  {
   "cell_type": "markdown",
   "metadata": {},
   "source": [
    "Norway maples that are poor health are 14% of poor health trees. Norway maples that are good health is only 4% of good health trees. This does seem somewhat significant, but one aspect that needs to be fleshed out is that there are not that many trees in poor health (only 4% of this dataset), which could lessen the significance of this metric."
   ]
  },
  {
   "cell_type": "markdown",
   "metadata": {},
   "source": [
    "### Tree Status and Species Analysis"
   ]
  },
  {
   "cell_type": "code",
   "execution_count": 10,
   "metadata": {},
   "outputs": [
    {
     "data": {
      "text/plain": [
       "Alive    652173\n",
       "Stump     17654\n",
       "Dead      13961\n",
       "Name: status, dtype: int64"
      ]
     },
     "execution_count": 10,
     "metadata": {},
     "output_type": "execute_result"
    }
   ],
   "source": [
    "#finds number of trees for each status\n",
    "df.status.value_counts()"
   ]
  },
  {
   "cell_type": "code",
   "execution_count": 18,
   "metadata": {},
   "outputs": [
    {
     "data": {
      "text/plain": [
       "tree_id             0.953765\n",
       "block_id            0.953765\n",
       "created_at          0.953765\n",
       "tree_dbh            0.953765\n",
       "stump_diam          0.953765\n",
       "curb_loc            0.953765\n",
       "status              0.953765\n",
       "health              1.000000\n",
       "spc_latin           0.999998\n",
       "spc_common          0.999998\n",
       "steward             1.000000\n",
       "guards              1.000000\n",
       "sidewalk            1.000000\n",
       "user_type           0.953765\n",
       "problems            1.000000\n",
       "root_stone          0.953765\n",
       "root_grate          0.953765\n",
       "root_other          0.953765\n",
       "trunk_wire          0.953765\n",
       "trnk_light          0.953765\n",
       "trnk_other          0.953765\n",
       "brch_light          0.953765\n",
       "brch_shoe           0.953765\n",
       "brch_other          0.953765\n",
       "address             0.953765\n",
       "postcode            0.953765\n",
       "zip_city            0.953765\n",
       "community board     0.953765\n",
       "borocode            0.953765\n",
       "borough             0.953765\n",
       "cncldist            0.953765\n",
       "st_assem            0.953765\n",
       "st_senate           0.953765\n",
       "nta                 0.953765\n",
       "nta_name            0.953765\n",
       "boro_ct             0.953765\n",
       "state               0.953765\n",
       "latitude            0.953765\n",
       "longitude           0.953765\n",
       "x_sp                0.953765\n",
       "y_sp                0.953765\n",
       "council district    0.953782\n",
       "census tract        0.953782\n",
       "bin                 0.953786\n",
       "bbl                 0.953786\n",
       "dtype: float64"
      ]
     },
     "execution_count": 18,
     "metadata": {},
     "output_type": "execute_result"
    }
   ],
   "source": [
    "#finds percentage of alive trees in database\n",
    "alive.count()/df.count()"
   ]
  },
  {
   "cell_type": "markdown",
   "metadata": {},
   "source": [
    "Most trees in the database (95%) are alive."
   ]
  },
  {
   "cell_type": "code",
   "execution_count": 14,
   "metadata": {},
   "outputs": [
    {
     "data": {
      "text/plain": [
       "London planetree    87014\n",
       "honeylocust         64263\n",
       "Callery pear        58931\n",
       "pin oak             53185\n",
       "Norway maple        34189\n",
       "Name: spc_common, dtype: int64"
      ]
     },
     "execution_count": 14,
     "metadata": {},
     "output_type": "execute_result"
    }
   ],
   "source": [
    "#creates mask for trees that are alive\n",
    "alive = df.query('status == \"Alive\"')\n",
    "#finds seven most alive common tree species\n",
    "alive.spc_common.value_counts().nlargest()"
   ]
  },
  {
   "cell_type": "code",
   "execution_count": 15,
   "metadata": {},
   "outputs": [
    {
     "data": {
      "text/plain": [
       "honeylocust    1\n",
       "Name: spc_common, dtype: int64"
      ]
     },
     "execution_count": 15,
     "metadata": {},
     "output_type": "execute_result"
    }
   ],
   "source": [
    "#creates mask for trees that are dead\n",
    "dead = df.query('status == \"Dead\"')\n",
    "#finds seven most dead common tree species\n",
    "dead.spc_common.value_counts().nlargest()"
   ]
  },
  {
   "cell_type": "code",
   "execution_count": 16,
   "metadata": {},
   "outputs": [
    {
     "data": {
      "text/plain": [
       "Series([], Name: spc_common, dtype: int64)"
      ]
     },
     "execution_count": 16,
     "metadata": {},
     "output_type": "execute_result"
    }
   ],
   "source": [
    "#creates mask for stumps\n",
    "stump = df.query('status == \"Stump\"')\n",
    "#finds seven most common tree species that are stumps\n",
    "stump.spc_common.value_counts().nlargest()"
   ]
  },
  {
   "cell_type": "markdown",
   "metadata": {},
   "source": [
    "There are no species delineations for stumps, and only one for dead trees. Because of this, it isn't possible to look at the distribution of species types across status."
   ]
  },
  {
   "cell_type": "markdown",
   "metadata": {},
   "source": [
    "### Sidewalk Status and Species Analysis"
   ]
  },
  {
   "cell_type": "code",
   "execution_count": 11,
   "metadata": {},
   "outputs": [
    {
     "data": {
      "text/plain": [
       "NoDamage    464978\n",
       "Damage      187194\n",
       "Name: sidewalk, dtype: int64"
      ]
     },
     "execution_count": 11,
     "metadata": {},
     "output_type": "execute_result"
    }
   ],
   "source": [
    "#finds number of trees by sidewalk status\n",
    "df.sidewalk.value_counts()"
   ]
  },
  {
   "cell_type": "code",
   "execution_count": null,
   "metadata": {},
   "outputs": [],
   "source": [
    "#creates mask for trees that damaged sidewalk\n",
    "damage = df.query('sidewalk == \"Damage\"')\n",
    "#finds seven most common tree species that damaged sidewalk\n",
    "damage.spc_common.value_counts().nlargest(7)"
   ]
  },
  {
   "cell_type": "code",
   "execution_count": null,
   "metadata": {},
   "outputs": [],
   "source": [
    "#creates mask for trees that didn't damage sidewalk\n",
    "no_damage = df.query('sidewalk == \"NoDamage\"')\n",
    "#finds seven most common tree species that didn't damaged sidewalk\n",
    "no_damage.spc_common.value_counts().nlargest(7)"
   ]
  },
  {
   "cell_type": "markdown",
   "metadata": {},
   "source": [
    "### Tree Size Analysis"
   ]
  },
  {
   "cell_type": "code",
   "execution_count": 13,
   "metadata": {},
   "outputs": [
    {
     "data": {
      "text/plain": [
       "spc_common\n",
       "London planetree      21.560657\n",
       "silver maple          21.013603\n",
       "eastern cottonwood    17.061594\n",
       "pin oak               16.867707\n",
       "weeping willow        15.797872\n",
       "pignut hickory        15.393939\n",
       "sycamore maple        14.767118\n",
       "Norway maple          14.330516\n",
       "catalpa               14.284936\n",
       "mulberry              14.219533\n",
       "Name: tree_dbh, dtype: float64"
      ]
     },
     "execution_count": 13,
     "metadata": {},
     "output_type": "execute_result"
    }
   ],
   "source": [
    "#finds 10 largest average tree dbh - diameter at breast height - by tree species\n",
    "df.groupby('spc_common')['tree_dbh'].mean().nlargest(10)"
   ]
  },
  {
   "cell_type": "code",
   "execution_count": 39,
   "metadata": {},
   "outputs": [
    {
     "data": {
      "text/plain": [
       "London planetree          87014\n",
       "honeylocust               64264\n",
       "Callery pear              58931\n",
       "pin oak                   53185\n",
       "Norway maple              34189\n",
       "littleleaf linden         29742\n",
       "cherry                    29279\n",
       "Japanese zelkova          29258\n",
       "ginkgo                    21024\n",
       "Sophora                   19338\n",
       "red maple                 17246\n",
       "green ash                 16251\n",
       "American linden           13530\n",
       "silver maple              12277\n",
       "sweetgum                  10657\n",
       "northern red oak           8400\n",
       "silver linden              7995\n",
       "American elm               7975\n",
       "maple                      7080\n",
       "purple-leaf plum           6879\n",
       "swamp white oak            6598\n",
       "crimson king maple         5923\n",
       "Chinese elm                5345\n",
       "'Schubert' chokecherry     4888\n",
       "Japanese tree lilac        4568\n",
       "eastern redbud             3801\n",
       "golden raintree            3719\n",
       "crab apple                 3527\n",
       "Kentucky coffeetree        3364\n",
       "willow oak                 3184\n",
       "                          ...  \n",
       "mimosa                      163\n",
       "tartar maple                153\n",
       "holly                       138\n",
       "southern magnolia           132\n",
       "blue spruce                 126\n",
       "European beech              125\n",
       "red horse chestnut          116\n",
       "black maple                 114\n",
       "trident maple               110\n",
       "false cypress               108\n",
       "red pine                    106\n",
       "pignut hickory               99\n",
       "bigtooth aspen               94\n",
       "eastern hemlock              88\n",
       "Atlas cedar                  87\n",
       "Douglas-fir                  85\n",
       "quaking aspen                83\n",
       "southern red oak             83\n",
       "Ohio buckeye                 75\n",
       "Himalayan cedar              72\n",
       "boxelder                     64\n",
       "Shantung maple               59\n",
       "smoketree                    58\n",
       "European alder               47\n",
       "American larch               46\n",
       "black pine                   37\n",
       "pitch pine                   33\n",
       "Osage-orange                 29\n",
       "Scots pine                   25\n",
       "Virginia pine                10\n",
       "Name: spc_common, Length: 132, dtype: int64"
      ]
     },
     "execution_count": 39,
     "metadata": {},
     "output_type": "execute_result"
    }
   ],
   "source": [
    "df.spc_common.value_counts()"
   ]
  },
  {
   "cell_type": "markdown",
   "metadata": {},
   "source": [
    "## Saves to CSV"
   ]
  },
  {
   "cell_type": "code",
   "execution_count": 12,
   "metadata": {},
   "outputs": [],
   "source": [
    "df.to_csv('ny_street_trees_latin_names')"
   ]
  },
  {
   "cell_type": "markdown",
   "metadata": {},
   "source": [
    "## References\n",
    "- https://stackoverflow.com/questions/26763344/convert-pandas-column-to-datetime\n",
    "- https://chrisalbon.com/python/data_wrangling/pandas_regex_to_create_columns/"
   ]
  },
  {
   "cell_type": "code",
   "execution_count": null,
   "metadata": {},
   "outputs": [],
   "source": []
  }
 ],
 "metadata": {
  "kernelspec": {
   "display_name": "Python [default]",
   "language": "python",
   "name": "python3"
  },
  "language_info": {
   "codemirror_mode": {
    "name": "ipython",
    "version": 3
   },
   "file_extension": ".py",
   "mimetype": "text/x-python",
   "name": "python",
   "nbconvert_exporter": "python",
   "pygments_lexer": "ipython3",
   "version": "3.6.4"
  }
 },
 "nbformat": 4,
 "nbformat_minor": 2
}
